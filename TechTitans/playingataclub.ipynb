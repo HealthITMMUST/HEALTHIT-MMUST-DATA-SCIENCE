{
 "cells": [
  {
   "cell_type": "code",
   "execution_count": null,
   "metadata": {},
   "outputs": [],
   "source": []
  },
  {
   "cell_type": "code",
   "execution_count": 14,
   "metadata": {},
   "outputs": [
    {
     "name": "stdout",
     "output_type": "stream",
     "text": [
      "0             L. Messi at \n",
      "12            Casemiro at \n",
      "14            M. Neuer at \n",
      "15          K. Benzema at \n",
      "16        Sergio Ramos at \n",
      "               ...        \n",
      "17811       Sun Shoubo at \n",
      "18093      Cui Ming'an at \n",
      "18258      Song Zhiwei at \n",
      "18274        G. Harkin at \n",
      "18430    B. Al Bahrani at \n",
      "Name: Name, Length: 781, dtype: object\n"
     ]
    },
    {
     "name": "stderr",
     "output_type": "stream",
     "text": [
      "C:\\Users\\DavidMwas\\AppData\\Local\\Temp\\ipykernel_4328\\1270750133.py:5: DtypeWarning: Columns (76) have mixed types. Specify dtype option on import or set low_memory=False.\n",
      "  fifa21messy=pd.read_csv(\"./HEALTHIT-MMUST-DATA-SCIENCE/datasets/fifa21_raw_data.csv\");\n"
     ]
    }
   ],
   "source": [
    "# check players playing at a club for 10 year based on \"joined\" column\n",
    "\n",
    "import pandas as pd\n",
    "\n",
    "fifa21messy=pd.read_csv(\"./HEALTHIT-MMUST-DATA-SCIENCE/datasets/fifa21_raw_data.csv\");\n",
    "\n",
    "# fifa21messy[\"Joined\"] =pd.to_datetime(fifa21messy[\"Joined\"]) \n",
    "# Assuming 'data' is your DataFrame and 'Joined' is the column name\n",
    "fifa21messy[\"Joined\"] = pd.to_datetime(fifa21messy[\"Joined\"], format=\"%b %d, %Y\")\n",
    "\n",
    "fifa21messy[\"Tenure\"] = pd.to_timedelta(pd.to_datetime(\"today\") -fifa21messy[\"Joined\"])\n",
    "\n",
    "long_tenured_players = fifa21messy[fifa21messy[\"Tenure\"] > pd.Timedelta(days=3650)]\n",
    "\n",
    "\n",
    "long_tenure_list = list(long_tenured_players[\"Name\"] + \" at \")\n",
    "\n",
    "# print(long_tenure_list)\n",
    "# row data\n",
    "print(long_tenured_players[\"Name\"] + \" at \")\n",
    "# print(fifa21messy)"
   ]
  }
 ],
 "metadata": {
  "kernelspec": {
   "display_name": "Python 3",
   "language": "python",
   "name": "python3"
  },
  "language_info": {
   "codemirror_mode": {
    "name": "ipython",
    "version": 3
   },
   "file_extension": ".py",
   "mimetype": "text/x-python",
   "name": "python",
   "nbconvert_exporter": "python",
   "pygments_lexer": "ipython3",
   "version": "3.11.4"
  }
 },
 "nbformat": 4,
 "nbformat_minor": 2
}
