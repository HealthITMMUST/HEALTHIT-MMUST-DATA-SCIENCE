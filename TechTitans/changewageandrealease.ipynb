{
 "cells": [
  {
   "cell_type": "code",
   "execution_count": 3,
   "metadata": {},
   "outputs": [],
   "source": [
    "import pandas as pd\n",
    "\n",
    "\n",
    "fifa21messy = pd.read_csv(\n",
    "    \"./HEALTHIT-MMUST-DATA-SCIENCE/datasets/fifa21_raw_data.csv\")\n",
    "\n",
    "# Changing 'Value\" to int type\n",
    "fifa21messy['Value'] = fifa21messy['Value'].str.strip('€')\n",
    "d = {'M': '*1000000', 'K': '*1000'}\n",
    "s_convert = fifa21messy['Value'].replace(d, regex=True).map(pd.eval)\n",
    "fifa21messy['Value'] = s_convert.astype(int)\n",
    "\n",
    "# print(fifa21messy['Value'])\n",
    "\n",
    "# Changing 'Wage' to int type\n",
    "fifa21messy['Wage'] = fifa21messy['Wage'].str.strip('€')\n",
    "d = {'M': '*1000000', 'K': '*1000'}\n",
    "s_convert = fifa21messy['Wage'].replace(d, regex=True).map(pd.eval)\n",
    "fifa21messy['Wage'] = s_convert.astype(int)\n",
    "\n",
    "# print(fifa21messy['Wage'])\n",
    "\n",
    "# Changing 'Release Clause' to int type\n",
    "fifa21messy['Release Clause'] = fifa21messy['Release Clause'].str.strip('€')\n",
    "d = {'M': '*1000000', 'K': '*1000'}\n",
    "s_convert = fifa21messy['Release Clause'].replace(d, regex=True).map(pd.eval)\n",
    "fifa21messy['Release Clause'] = s_convert.astype(int)\n",
    "# fifa21messy['Release Clause']\n",
    "\n",
    "# print(fifa21messy['Release Clause'])"
   ]
  }
 ],
 "metadata": {
  "kernelspec": {
   "display_name": "Python 3",
   "language": "python",
   "name": "python3"
  },
  "language_info": {
   "codemirror_mode": {
    "name": "ipython",
    "version": 3
   },
   "file_extension": ".py",
   "mimetype": "text/x-python",
   "name": "python",
   "nbconvert_exporter": "python",
   "pygments_lexer": "ipython3",
   "version": "3.11.4"
  }
 },
 "nbformat": 4,
 "nbformat_minor": 2
}
